{
 "cells": [
  {
   "cell_type": "code",
   "execution_count": 10,
   "metadata": {},
   "outputs": [],
   "source": [
    "# Dependencies\n",
    "import numpy as np\n",
    "import pandas as pd\n",
    "import matplotlib.pyplot as plt\n",
    "import requests\n",
    "import censusdata\n",
    "import re\n",
    "\n",
    "censuskey = '7b3e8a6afe58867abcf5aecad26845d802115f1f'"
   ]
  },
  {
   "cell_type": "code",
   "execution_count": 11,
   "metadata": {},
   "outputs": [],
   "source": [
    "#Define Funtions\n",
    "\n",
    "#Funcion For NonDigit Removing Characters from Row - Used for Extracting GEOID\n",
    "def remove_chars(s):\n",
    "    clean = int(re.sub('[^0-9]+', '', str(s))[-11:])\n",
    "    return clean\n",
    "\n",
    "#Function to get census data according to requirements\n",
    "def getcensustables(table):\n",
    "    tablename = 'data_' + table\n",
    "    print(f'Downloading {table}')\n",
    "    \n",
    "    # Set requirements to pull from Census API\n",
    "    \n",
    "    variablestopull = allvariablescsv.loc[allvariablescsv['Group']==table]['Name'].tolist()\n",
    "    listofcounties = ['121', '089']\n",
    "    yearstopull = range(2015,2018,1)\n",
    "\n",
    "    #Pull Census Data according to requirement above\n",
    "    atlantadata = pd.DataFrame()\n",
    "\n",
    "    for year in yearstopull:\n",
    "        for county in listofcounties:\n",
    "\n",
    "            newdata = censusdata.download('acs5', year, censusdata.censusgeo([('state', '13'), ('county', county), ('tract', '*')]),variablestopull,censuskey)\n",
    "            type(newdata)\n",
    "            newdata['YEAR'] = year\n",
    "            atlantadata = atlantadata.append(newdata)\n",
    "\n",
    "    #Rename Column Headings from Code to Text\n",
    "    for variable in variablestopull:\n",
    "        #print(variable)\n",
    "        renamevar1 = allvariablescsv.loc[allvariablescsv['Name']==variable]['Label'].iloc[0]\n",
    "        renamevar2 = allvariablescsv.loc[allvariablescsv['Name']==variable]['Concept'].iloc[0]\n",
    "        renamevar = renamevar2 + '_'+ renamevar1\n",
    "        #print(renamevar)\n",
    "        atlantadata = atlantadata.rename(columns={variable: renamevar})\n",
    "\n",
    "    #Transform Index to create GeoID\n",
    "\n",
    "    #Create GeoID Column\n",
    "    atlantadata['Name2'] = atlantadata.index\n",
    "    atlantadata['GEOID'] = atlantadata['Name2'].apply(remove_chars)\n",
    "    atlantadata.drop(columns=['Name2'], inplace=True)\n",
    "    \n",
    "    #Only Keep Atlanta Census Tracts(Geocodes)\n",
    "    finaldata = atlantageocodes.merge(atlantadata, how='left', on='GEOID')\n",
    "    \n",
    "    finaldata = finaldata.dropna(axis=0, how='any')\n",
    "    \n",
    "    return finaldata"
   ]
  }
 ],
 "metadata": {
  "anaconda-cloud": {},
  "kernelspec": {
   "display_name": "Python 36 (PythonData)",
   "language": "python",
   "name": "pythondata"
  },
  "language_info": {
   "codemirror_mode": {
    "name": "ipython",
    "version": 3
   },
   "file_extension": ".py",
   "mimetype": "text/x-python",
   "name": "python",
   "nbconvert_exporter": "python",
   "pygments_lexer": "ipython3",
   "version": "3.6.8"
  }
 },
 "nbformat": 4,
 "nbformat_minor": 1
}
